{
 "cells": [
  {
   "cell_type": "markdown",
   "metadata": {},
   "source": [
    "Notebook to create Causal Graphs for a given data using Structure Learning alogrithm - NoTears"
   ]
  },
  {
   "cell_type": "code",
   "execution_count": null,
   "metadata": {},
   "outputs": [],
   "source": [
    "from os.path import join\n",
    "from os.path import abspath\n",
    "import itertools\n",
    "\n",
    "import numpy as np\n",
    "import pandas as pd\n",
    "from causalnex.structure.notears import from_pandas\n",
    "from sklearn.model_selection import KFold\n",
    "import networkx as nx\n",
    "import matplotlib.pyplot as plt\n",
    "#set restictions on the graph modelling\n",
    "from configs import config as cf\n"
   ]
  },
  {
   "cell_type": "code",
   "execution_count": null,
   "metadata": {},
   "outputs": [],
   "source": [
    "data = pd.read_csv(\"data/features.csv\")"
   ]
  },
  {
   "cell_type": "code",
   "execution_count": null,
   "metadata": {},
   "outputs": [],
   "source": [
    "features = data[[\"defense_type\", 'corner_type'\t,'dynamic_movement', 'shot_attempt','closely_marked','attacking_setup']]"
   ]
  },
  {
   "cell_type": "code",
   "execution_count": null,
   "metadata": {},
   "outputs": [],
   "source": [
    "features.head()"
   ]
  },
  {
   "cell_type": "markdown",
   "metadata": {},
   "source": [
    "### Structure Learning with NOTEARS"
   ]
  },
  {
   "cell_type": "code",
   "execution_count": null,
   "metadata": {},
   "outputs": [],
   "source": [
    "# Apply NOTEARS algorithm\n",
    "graph = from_pandas(features, \n",
    "                 max_iter=200,\n",
    "                 tabu_child_nodes=cf.tabu_child_nodes,\n",
    "                 tabu_parent_nodes=cf.tabu_parent_nodes,\n",
    "                 tabu_edges=cf.tabu_edges,\n",
    "                 w_threshold=0.2)\n",
    "    \n"
   ]
  },
  {
   "cell_type": "code",
   "execution_count": null,
   "metadata": {},
   "outputs": [],
   "source": [
    "options = {\n",
    "    \"font_size\": 6,\n",
    "    \"node_size\": 1000,\n",
    "    \"node_color\": \"white\",\n",
    "    \"edgecolors\": \"black\",\n",
    "    \"linewidths\": 2,\n",
    "    \"width\": 2,\n",
    "}\n",
    "nx.draw_networkx(graph, **options)\n",
    "\n",
    "# Set margins for the axes so that nodes aren't clipped\n",
    "ax = plt.gca()\n",
    "# ax.margins(0.20)\n",
    "plt.axis(\"off\")\n",
    "# plt.savefig(\"notears_point2.png\") \n",
    "\n",
    "plt.show()\n",
    "\n"
   ]
  },
  {
   "cell_type": "code",
   "execution_count": null,
   "metadata": {},
   "outputs": [],
   "source": [
    "#saves the graph\n",
    "# nx.write_gexf(graph, \"data/notears_point2.gexf\")\n",
    "\n",
    "\n",
    "# #to load the graph\n",
    "# graph = nx.read_gexf(\"data/notears_point2.gexf\")\n"
   ]
  }
 ],
 "metadata": {
  "kernelspec": {
   "display_name": "Python 3 (ipykernel)",
   "language": "python",
   "name": "python3"
  },
  "language_info": {
   "codemirror_mode": {
    "name": "ipython",
    "version": 3
   },
   "file_extension": ".py",
   "mimetype": "text/x-python",
   "name": "python",
   "nbconvert_exporter": "python",
   "pygments_lexer": "ipython3",
   "version": "3.9.7"
  },
  "vscode": {
   "interpreter": {
    "hash": "d165a42098c0b6f0c994f1bdf0c2a18614fb5d3689bf5fa33524e59b112b8e13"
   }
  }
 },
 "nbformat": 4,
 "nbformat_minor": 4
}
