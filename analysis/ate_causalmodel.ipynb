{
 "cells": [
  {
   "cell_type": "markdown",
   "id": "18153c21",
   "metadata": {},
   "source": [
    "This notebook calculates the Average Treatment Effect for all variables using a Non-Parametric Causal approach"
   ]
  },
  {
   "cell_type": "code",
   "execution_count": null,
   "id": "9566d880",
   "metadata": {},
   "outputs": [],
   "source": [
    "import numpy as np\n",
    "import pandas as pd\n",
    "from dowhy import CausalModel\n",
    "import dowhy.datasets\n",
    "import networkx as nx\n",
    "\n",
    "import statsmodels\n",
    "\n",
    "import warnings\n",
    "from sklearn.ensemble import RandomForestClassifier\n",
    "# Ignore all warnings\n",
    "warnings.filterwarnings(\"ignore\")\n",
    "\n",
    "\n",
    "import matplotlib.pyplot as plt"
   ]
  },
  {
   "cell_type": "code",
   "execution_count": 3,
   "id": "d81046ab",
   "metadata": {},
   "outputs": [],
   "source": [
    "graph = nx.read_gexf(\"data/notears_point2.gexf\")"
   ]
  },
  {
   "cell_type": "code",
   "execution_count": 4,
   "id": "2024df19",
   "metadata": {},
   "outputs": [],
   "source": [
    "df = pd.read_csv(\"data/features.csv\")"
   ]
  },
  {
   "cell_type": "code",
   "execution_count": 5,
   "id": "d0afe33b",
   "metadata": {},
   "outputs": [
    {
     "data": {
      "text/html": [
       "<div>\n",
       "<style scoped>\n",
       "    .dataframe tbody tr th:only-of-type {\n",
       "        vertical-align: middle;\n",
       "    }\n",
       "\n",
       "    .dataframe tbody tr th {\n",
       "        vertical-align: top;\n",
       "    }\n",
       "\n",
       "    .dataframe thead th {\n",
       "        text-align: right;\n",
       "    }\n",
       "</style>\n",
       "<table border=\"1\" class=\"dataframe\">\n",
       "  <thead>\n",
       "    <tr style=\"text-align: right;\">\n",
       "      <th></th>\n",
       "      <th>defense_type</th>\n",
       "      <th>def_detail</th>\n",
       "      <th>corner_detail</th>\n",
       "      <th>corner_type</th>\n",
       "      <th>dynamic_movement</th>\n",
       "      <th>shot_attempt</th>\n",
       "      <th>closely_marked</th>\n",
       "      <th>attacking_setup</th>\n",
       "      <th>att_detail</th>\n",
       "    </tr>\n",
       "  </thead>\n",
       "  <tbody>\n",
       "    <tr>\n",
       "      <th>0</th>\n",
       "      <td>0</td>\n",
       "      <td>Man-Mark</td>\n",
       "      <td>Inswinger</td>\n",
       "      <td>0</td>\n",
       "      <td>1</td>\n",
       "      <td>0</td>\n",
       "      <td>1</td>\n",
       "      <td>0</td>\n",
       "      <td>Attackers start from near post</td>\n",
       "    </tr>\n",
       "    <tr>\n",
       "      <th>1</th>\n",
       "      <td>0</td>\n",
       "      <td>Man-Mark</td>\n",
       "      <td>Inswinger</td>\n",
       "      <td>0</td>\n",
       "      <td>1</td>\n",
       "      <td>0</td>\n",
       "      <td>0</td>\n",
       "      <td>0</td>\n",
       "      <td>Attackers start from near post</td>\n",
       "    </tr>\n",
       "    <tr>\n",
       "      <th>2</th>\n",
       "      <td>0</td>\n",
       "      <td>Man-Mark</td>\n",
       "      <td>Inswinger</td>\n",
       "      <td>0</td>\n",
       "      <td>1</td>\n",
       "      <td>0</td>\n",
       "      <td>0</td>\n",
       "      <td>2</td>\n",
       "      <td>Two way movement</td>\n",
       "    </tr>\n",
       "    <tr>\n",
       "      <th>3</th>\n",
       "      <td>0</td>\n",
       "      <td>Man-Mark</td>\n",
       "      <td>Inswinger</td>\n",
       "      <td>0</td>\n",
       "      <td>1</td>\n",
       "      <td>0</td>\n",
       "      <td>1</td>\n",
       "      <td>1</td>\n",
       "      <td>Runs from deeper areas - to the back post</td>\n",
       "    </tr>\n",
       "    <tr>\n",
       "      <th>4</th>\n",
       "      <td>0</td>\n",
       "      <td>Man-Mark</td>\n",
       "      <td>Inswinger</td>\n",
       "      <td>0</td>\n",
       "      <td>1</td>\n",
       "      <td>0</td>\n",
       "      <td>1</td>\n",
       "      <td>0</td>\n",
       "      <td>Attackers start from near post</td>\n",
       "    </tr>\n",
       "  </tbody>\n",
       "</table>\n",
       "</div>"
      ],
      "text/plain": [
       "   defense_type def_detail corner_detail  corner_type  dynamic_movement  \\\n",
       "0             0   Man-Mark     Inswinger            0                 1   \n",
       "1             0   Man-Mark     Inswinger            0                 1   \n",
       "2             0   Man-Mark     Inswinger            0                 1   \n",
       "3             0   Man-Mark     Inswinger            0                 1   \n",
       "4             0   Man-Mark     Inswinger            0                 1   \n",
       "\n",
       "   shot_attempt  closely_marked  attacking_setup  \\\n",
       "0             0               1                0   \n",
       "1             0               0                0   \n",
       "2             0               0                2   \n",
       "3             0               1                1   \n",
       "4             0               1                0   \n",
       "\n",
       "                                  att_detail  \n",
       "0             Attackers start from near post  \n",
       "1             Attackers start from near post  \n",
       "2                           Two way movement  \n",
       "3  Runs from deeper areas - to the back post  \n",
       "4             Attackers start from near post  "
      ]
     },
     "execution_count": 5,
     "metadata": {},
     "output_type": "execute_result"
    }
   ],
   "source": [
    "df.head()"
   ]
  },
  {
   "cell_type": "code",
   "execution_count": 6,
   "id": "95a7acb9",
   "metadata": {},
   "outputs": [],
   "source": [
    "features = df[[\"defense_type\", 'corner_type','dynamic_movement', 'shot_attempt','closely_marked','attacking_setup']]"
   ]
  },
  {
   "cell_type": "code",
   "execution_count": 7,
   "id": "a901a0f6",
   "metadata": {},
   "outputs": [
    {
     "data": {
      "text/html": [
       "<div>\n",
       "<style scoped>\n",
       "    .dataframe tbody tr th:only-of-type {\n",
       "        vertical-align: middle;\n",
       "    }\n",
       "\n",
       "    .dataframe tbody tr th {\n",
       "        vertical-align: top;\n",
       "    }\n",
       "\n",
       "    .dataframe thead th {\n",
       "        text-align: right;\n",
       "    }\n",
       "</style>\n",
       "<table border=\"1\" class=\"dataframe\">\n",
       "  <thead>\n",
       "    <tr style=\"text-align: right;\">\n",
       "      <th></th>\n",
       "      <th>defense_type</th>\n",
       "      <th>corner_type</th>\n",
       "      <th>dynamic_movement</th>\n",
       "      <th>shot_attempt</th>\n",
       "      <th>closely_marked</th>\n",
       "      <th>attacking_setup</th>\n",
       "    </tr>\n",
       "  </thead>\n",
       "  <tbody>\n",
       "    <tr>\n",
       "      <th>0</th>\n",
       "      <td>0</td>\n",
       "      <td>0</td>\n",
       "      <td>1</td>\n",
       "      <td>0</td>\n",
       "      <td>1</td>\n",
       "      <td>0</td>\n",
       "    </tr>\n",
       "    <tr>\n",
       "      <th>1</th>\n",
       "      <td>0</td>\n",
       "      <td>0</td>\n",
       "      <td>1</td>\n",
       "      <td>0</td>\n",
       "      <td>0</td>\n",
       "      <td>0</td>\n",
       "    </tr>\n",
       "    <tr>\n",
       "      <th>2</th>\n",
       "      <td>0</td>\n",
       "      <td>0</td>\n",
       "      <td>1</td>\n",
       "      <td>0</td>\n",
       "      <td>0</td>\n",
       "      <td>2</td>\n",
       "    </tr>\n",
       "    <tr>\n",
       "      <th>3</th>\n",
       "      <td>0</td>\n",
       "      <td>0</td>\n",
       "      <td>1</td>\n",
       "      <td>0</td>\n",
       "      <td>1</td>\n",
       "      <td>1</td>\n",
       "    </tr>\n",
       "    <tr>\n",
       "      <th>4</th>\n",
       "      <td>0</td>\n",
       "      <td>0</td>\n",
       "      <td>1</td>\n",
       "      <td>0</td>\n",
       "      <td>1</td>\n",
       "      <td>0</td>\n",
       "    </tr>\n",
       "  </tbody>\n",
       "</table>\n",
       "</div>"
      ],
      "text/plain": [
       "   defense_type  corner_type  dynamic_movement  shot_attempt  closely_marked  \\\n",
       "0             0            0                 1             0               1   \n",
       "1             0            0                 1             0               0   \n",
       "2             0            0                 1             0               0   \n",
       "3             0            0                 1             0               1   \n",
       "4             0            0                 1             0               1   \n",
       "\n",
       "   attacking_setup  \n",
       "0                0  \n",
       "1                0  \n",
       "2                2  \n",
       "3                1  \n",
       "4                0  "
      ]
     },
     "execution_count": 7,
     "metadata": {},
     "output_type": "execute_result"
    }
   ],
   "source": [
    "features.head()"
   ]
  },
  {
   "cell_type": "code",
   "execution_count": 179,
   "id": "3c4acbb2",
   "metadata": {},
   "outputs": [
    {
     "data": {
      "image/png": "[encoded data removed]",
      "text/plain": [
       "<Figure size 576x432 with 1 Axes>"
      ]
     },
     "metadata": {},
     "output_type": "display_data"
    }
   ],
   "source": [
    "# causal_model = gcm.StructuralCausalModel(graph)\n",
    "\n",
    "causal_model= CausalModel(\n",
    "        data = features,\n",
    "        graph=graph,\n",
    "        treatment=\"corner_type\",\n",
    "        outcome='shot_attempt')\n",
    "\n",
    "\n",
    "causal_model.view_model()\n",
    "\n"
   ]
  },
  {
   "cell_type": "code",
   "execution_count": 213,
   "id": "eae65e86",
   "metadata": {},
   "outputs": [
    {
     "name": "stdout",
     "output_type": "stream",
     "text": [
      "corner_type\n",
      "0.14171974522292993\n",
      "dynamic_movement\n",
      "-0.08280254777070063\n",
      "closely_marked\n",
      "0.0\n",
      "defense_type\n",
      "0.025477707006369428\n"
     ]
    }
   ],
   "source": [
    "#refer -: https://www.pywhy.org/dowhy/main/example_notebooks/dowhy-conditional-treatment-effects.html\n",
    "treatments = [ 'corner_type', 'dynamic_movement','closely_marked','defense_type']\n",
    "\n",
    "for each in treatments:\n",
    "    print(each)\n",
    "\n",
    "    causal_model= CausalModel(\n",
    "            data = features,\n",
    "            graph=graph,\n",
    "            treatment=each,\n",
    "            outcome='shot_attempt')\n",
    "\n",
    "\n",
    "\n",
    "    identified_estimand_cde = causal_model.identify_effect(estimand_type=\"nonparametric-cde\",\n",
    "                                                proceed_when_unidentifiable=True)\n",
    "#     print(identified_estimand_cde)\n",
    "\n",
    "\n",
    "    metalearner_estimate = causal_model.estimate_effect(identified_estimand_cde,\n",
    "                                    method_name=\"backdoor.econml.metalearners.TLearner\",\n",
    "                                    confidence_intervals=False,\n",
    "                                    control_value=0,\n",
    "                                    treatment_value=1,\n",
    "                                #     target_units = 1,\n",
    "                                    # target_units = lambda df: df[\"shot_attempt\"]>0,\n",
    "                                    method_params={\"init_params\":{\n",
    "                                                        'models': RandomForestClassifier(random_state=42)\n",
    "                                                        },\n",
    "                                                \"fit_params\":{}\n",
    "                                                })\n",
    "    print(metalearner_estimate.value)\n"
   ]
  },
  {
   "cell_type": "code",
   "execution_count": 185,
   "id": "683c4fbd",
   "metadata": {},
   "outputs": [
    {
     "name": "stdout",
     "output_type": "stream",
     "text": [
      "Refute: Add a random common cause\n",
      "Estimated effect:0.025477707006369428\n",
      "New effect:0.03226114649681529\n",
      "p value:0.77\n",
      "\n"
     ]
    }
   ],
   "source": [
    "#three different methods can be tried: random_common_cause, placebo_treatment_refuter, data_subset_refuter\n",
    "#refer https://www.pywhy.org/dowhy/main/example_notebooks/DoWhy-The%20Causal%20Story%20Behind%20Hotel%20Booking%20Cancellations.html\n",
    "\n",
    "refute2_results=causal_model.refute_estimate(identified_estimand_cde, metalearner_estimate,\n",
    "        method_name=\"random_common_cause\")\n",
    "print(refute2_results)"
   ]
  }
 ],
 "metadata": {
  "kernelspec": {
   "display_name": "Python 3 (ipykernel)",
   "language": "python",
   "name": "python3"
  },
  "language_info": {
   "codemirror_mode": {
    "name": "ipython",
    "version": 3
   },
   "file_extension": ".py",
   "mimetype": "text/x-python",
   "name": "python",
   "nbconvert_exporter": "python",
   "pygments_lexer": "ipython3",
   "version": "3.9.7"
  }
 },
 "nbformat": 4,
 "nbformat_minor": 5
}
