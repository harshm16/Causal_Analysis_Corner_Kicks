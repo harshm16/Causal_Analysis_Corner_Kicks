{
 "cells": [
  {
   "cell_type": "code",
   "execution_count": 1,
   "id": "e9e035b8",
   "metadata": {},
   "outputs": [
    {
     "name": "stderr",
     "output_type": "stream",
     "text": [
      "C:\\Users\\mishr\\anaconda3\\lib\\site-packages\\pandas\\core\\arrays\\masked.py:62: UserWarning: Pandas requires version '1.3.4' or newer of 'bottleneck' (version '1.3.2' currently installed).\n",
      "  from pandas.core import (\n",
      "C:\\Users\\mishr\\anaconda3\\lib\\site-packages\\scipy\\__init__.py:146: UserWarning: A NumPy version >=1.16.5 and <1.23.0 is required for this version of SciPy (detected version 1.26.2\n",
      "  warnings.warn(f\"A NumPy version >={np_minversion} and <{np_maxversion}\"\n"
     ]
    }
   ],
   "source": [
    "import pandas as pd\n",
    "import json\n",
    "import os\n",
    "import numpy as np\n",
    "import time\n",
    "import ipywidgets as widgets\n",
    "from bqplot import *\n",
    "import qgrid\n",
    "\n",
    "pd.options.display.max_columns = 999\n",
    "\n",
    "\n",
    "import matplotlib.pyplot as plt\n",
    "from matplotlib.patches import Arc\n",
    "\n",
    "from mplsoccer import Pitch, VerticalPitch, add_image, FontManager\n",
    "import seaborn as sns\n",
    "from matplotlib import rcParams\n",
    "import math\n",
    "from PIL import Image\n",
    "\n",
    "from highlight_text import ax_text\n",
    "from matplotlib import animation\n",
    "hfont = {'fontname':'Georgia'}\n",
    "\n",
    "from scipy import optimize as op\n",
    "from scipy.spatial import ConvexHull\n",
    "\n",
    "\n",
    "from itertools import chain\n",
    "import seaborn as sn\n",
    "from sklearn.mixture import GaussianMixture\n",
    "from sklearn.cluster import KMeans\n",
    "from sklearn.metrics import silhouette_score\n",
    "import itertools\n"
   ]
  },
  {
   "cell_type": "code",
   "execution_count": 2,
   "id": "2202aba1",
   "metadata": {},
   "outputs": [],
   "source": [
    "# load as lists\n",
    "\n",
    "with open('all_games_filtered.json', 'r') as json_file:\n",
    "    all_games = json.load(json_file)"
   ]
  },
  {
   "cell_type": "code",
   "execution_count": 3,
   "id": "bfa37a35",
   "metadata": {},
   "outputs": [],
   "source": [
    "def euclidean_distance(point1, point2):\n",
    "\n",
    "    \"\"\"\n",
    "    euclidean_distance(point1, point2)\n",
    "    \n",
    "    Finds the euclidean distance between 2 given points with x,y coordinates\n",
    "\n",
    "    Parameters\n",
    "    -----------\n",
    "    \n",
    "    point1/point2 (np array): x, y coordinates\n",
    "     \n",
    "    Returns\n",
    "    -----------\n",
    "    \n",
    "    distance (float): euclidean distance between the 2 given points\n",
    "\n",
    "    \"\"\"  \n",
    "\n",
    "    return np.linalg.norm(point1 - point2)\n",
    "\n",
    "def euclidean_similarity(array1, array2):\n",
    "\n",
    "    \"\"\"\n",
    "    euclidean_distance(point1, point2)\n",
    "    \n",
    "    Finds the closest points between the points in two different sets, using the linear sum assignment problem.\n",
    "    for more info. https://docs.scipy.org/doc/scipy/reference/generated/scipy.optimize.linear_sum_assignment.html\n",
    "\n",
    "    Parameters\n",
    "    -----------\n",
    "    \n",
    "    array1/array1 (np array):\n",
    "     \n",
    "    Returns\n",
    "    -----------\n",
    "    \n",
    "    sum_dist (float): the total cost of the assignment \n",
    "    sol_rows (list): An array of row indices indices giving the optimal assignment. \n",
    "    sol_cols (list): An array of corresponding column indices giving the optimal assignment\n",
    "\n",
    "    \"\"\"  \n",
    "\n",
    "    num_points1 = array1.shape[0]\n",
    "    num_points2 = array2.shape[0]\n",
    "    \n",
    "    cost_matrix = np.zeros((num_points1, num_points2))\n",
    "    \n",
    "    for i in range(num_points1):\n",
    "        for j in range(num_points2):\n",
    "            cost_matrix[i, j] = euclidean_distance(array1[i], array2[j])\n",
    "    \n",
    "\n",
    "    # Perform linear sum assignment and get mean squared distance\n",
    "    sol_rows, sol_cols = op.linear_sum_assignment(cost_matrix)\n",
    "    sum_dist = cost_matrix[sol_rows, sol_cols].sum()\n",
    "    # updated_cost_matrix = cost_matrix[sol_rows, sol_cols]\n",
    "\n",
    "\n",
    "    return sum_dist, sol_rows, sol_cols\n",
    "\n",
    "\n",
    "def active_players(x_coor, y_coor, attack_bool):\n",
    "    \n",
    "    if not attack_bool:\n",
    "        distances = np.sqrt((x_coor - 105)**2 + (y_coor - 34)**2)\n",
    "\n",
    "        # Find the index of the coordinates with the least distance\n",
    "        min_distance_index = np.argmin(distances)\n",
    "        \n",
    "        x_coor = np.delete(x_coor, min_distance_index)\n",
    "        y_coor = np.delete(y_coor, min_distance_index)\n",
    "\n",
    "    # Remove coordinates that do not meet the conditions\n",
    "    condition = (x_coor > 88) & (y_coor > 14) & (y_coor < 54)\n",
    "    x_coor = x_coor[condition]\n",
    "    y_coor = y_coor[condition]\n",
    "    \n",
    "    potential_zonal_markers = np.sum(x_coor > 99)\n",
    "    \n",
    "    \n",
    "    \n",
    "    return x_coor, y_coor, potential_zonal_markers"
   ]
  },
  {
   "cell_type": "code",
   "execution_count": 226,
   "id": "3122e6e4",
   "metadata": {},
   "outputs": [
    {
     "data": {
      "text/plain": [
       "dict_keys(['0.json', '1.json', '2.json', '3.json', '4.json', '5.json', '6.json', '7.json', '8.json', '10.json', '11.json', '12.json', '13.json', '14.json', '15.json', '16.json', '18.json', '19.json', '20.json', '21.json', '22.json', '23.json', '24.json', '25.json', '26.json', '27.json', '28.json', '29.json', '30.json', '31.json', '32.json', '33.json', '34.json', '35.json', '36.json', '37.json', '38.json', '39.json', '40.json', '41.json', '42.json', '43.json', '44.json', '45.json', '46.json', '47.json', '48.json', '49.json', '50.json', '51.json', '52.json', '53.json', '54.json', '55.json', '56.json', '58.json', '59.json', '60.json', '61.json', '62.json', '63.json', '64.json', '65.json', '66.json', '67.json', '68.json', '69.json', '70.json', '71.json', '72.json', '73.json', '74.json', '75.json', '76.json', '77.json', '78.json', '79.json', '80.json', '81.json', '82.json', '83.json', '84.json', '85.json', '86.json', '87.json', '88.json', '89.json', '90.json', '92.json', '93.json', '94.json', '95.json', '96.json', '97.json', '98.json', '99.json'])"
      ]
     },
     "execution_count": 226,
     "metadata": {},
     "output_type": "execute_result"
    }
   ],
   "source": [
    "all_games.keys()"
   ]
  },
  {
   "cell_type": "code",
   "execution_count": 227,
   "id": "00a636b8",
   "metadata": {},
   "outputs": [],
   "source": [
    "# file_name = '66.json'\n",
    "# corner_num = '3'\n",
    "\n",
    "for file_name in all_games.keys():\n",
    "    \n",
    "    for corner_num in all_games[file_name].keys():\n",
    "\n",
    "\n",
    "        frame_for_lsp = 0\n",
    "\n",
    "        pitch = VerticalPitch(pitch_color='#1b1f2b',pitch_type='custom',\n",
    "                    pitch_length=105, pitch_width=68,figsize=(14, 12), line_zorder=2, line_color='#c7d5cc')\n",
    "\n",
    "        fig, ax = pitch.draw(figsize=(14, 12))\n",
    "        fig.set_facecolor('#1b1f2b')\n",
    "\n",
    "\n",
    "        # then setup the pitch plot markers we want to animate\n",
    "        marker_kwargs = {'marker': 'o', 'markeredgecolor': 'black', 'linestyle': 'None'}\n",
    "        ball, = ax.plot([], [], ms=6, markerfacecolor='w', zorder=3, **marker_kwargs)\n",
    "        away, = ax.plot([], [], ms=10, markerfacecolor='#b94b75', **marker_kwargs)  # red/maroon\n",
    "        home, = ax.plot([], [], ms=10, markerfacecolor='#7f63b8', **marker_kwargs)  # purple\n",
    "\n",
    "\n",
    "        # animation function\n",
    "        def animate(i):\n",
    "\n",
    "        #     i = 70\n",
    "            \"\"\" Function to animate the data. Each frame it sets the data for the players and the ball.\"\"\"\n",
    "            # set the ball data with the x and y positions for the ith frame\n",
    "            ball.set_data(np.array(all_games[file_name][corner_num]['ball_coors'][i])[:, 1], np.array(all_games[file_name][corner_num]['ball_coors'][i])[:, 0])\n",
    "\n",
    "            # get the frame id for the ith frame\n",
    "\n",
    "            # set the player data using the frame id\n",
    "            away.set_data(np.array(all_games[file_name][corner_num]['defending_coors'][i])[:, 1], np.array(all_games[file_name][corner_num]['defending_coors'][i])[:, 0])\n",
    "            home.set_data(np.array(all_games[file_name][corner_num]['attacking_coors'][i])[:, 1], np.array(all_games[file_name][corner_num]['attacking_coors'][i])[:, 0])\n",
    "\n",
    "            return ball, away, home\n",
    "\n",
    "        # call the animator, animate so 25 frames per second\n",
    "        anim = animation.FuncAnimation(fig, animate, frames=len(all_games[file_name][corner_num]['ball_coors']), interval=200, blit=True)\n",
    "        # writergif = animation.PillowWriter(fps=30)\n",
    "        #nim.save('79json_3_straight.gif',writer=writergif) a\n",
    "\n",
    "        # pitch.scatter(88, 14, marker = 'x',ax=ax,zorder=3,s=100, color = \"yellow\")\n",
    "\n",
    "        # pitch.scatter(99, 35, marker = 'x',ax=ax,zorder=3,s=100, color = \"yellow\")\n",
    "\n",
    "\n",
    "        # defence_coord = np.column_stack(active_players(np.array(all_games[file_name][corner_num]['defending_coors'])[frame_for_lsp][:, 0], np.array(all_games[file_name][corner_num]['defending_coors'])[frame_for_lsp][:, 1], False)[:2])\n",
    "        # attack_coord = np.column_stack(active_players(np.array(all_games[file_name][corner_num]['attacking_coors'])[frame_for_lsp][:, 0], np.array(all_games[file_name][corner_num]['attacking_coors'])[frame_for_lsp][:, 1], True)[:2])\n",
    "\n",
    "        # cost, sol_rows, sol_cols = euclidean_similarity(attack_coord, defence_coord)\n",
    "\n",
    "\n",
    "        # for rows in range(len(sol_rows)):\n",
    "        #     pitch.plot((attack_coord[sol_rows[rows]][0],defence_coord[sol_cols][rows][0]),(attack_coord[sol_rows[rows]][1],defence_coord[sol_cols][rows][1]),color='yellow', linewidth=2, ax=ax)\n",
    "\n",
    "\n",
    "#         ax.text(s = \"Prediction based on Cost - \" + all_games[file_name][corner_num]['d_type'], y = 40, x = 67, color = 'white', size = 20)\n",
    "        \n",
    "        cost, _, _, _, _,_,_, gmm_all, gmm_single, kmeans = data_to_cluster[data_to_cluster['file_name_entry'] == (file_name + \"_\" + corner_num)].values[0]\n",
    "                           \n",
    "    \n",
    "#         if int(data_to_cluster[data_to_cluster['file_name_entry'] == (file_name + \"_\" + corner_num)]['cluster'].iloc[0]) == 0:\n",
    "#                pred_gmm = \"Man-Mark\"\n",
    "#         else:\n",
    "#                pred_gmm = \"Zone\"\n",
    "        \n",
    "#         del all_games[file_name][corner_num]['d_type']\n",
    "        \n",
    "        \n",
    "        ax.text(s = \"Predictions -:\", y = 45, x = 67, color = 'white', size = 20)\n",
    "    \n",
    "        ax.text(s = \"GMM: Cost & 6 yard bodies - \" + str(gmm_all), y = 40, x = 67, color = 'white', size = 20)\n",
    "        \n",
    "        all_games[file_name][corner_num]['defence_type_gmm_all'] = gmm_all\n",
    "        \n",
    "\n",
    "        ax.text(s = \"GMM: Cost only- \" + str(gmm_single), y = 35, x = 67, color = 'white', size = 20)\n",
    "        \n",
    "        all_games[file_name][corner_num]['gmm_single'] = gmm_single\n",
    "        \n",
    "        ax.text(s = \"KMeans: Cost only- \" + str(kmeans), y = 30, x = 67, color = 'white', size = 20)\n",
    "        \n",
    "        all_games[file_name][corner_num]['kmeans'] = kmeans\n",
    "\n",
    "        ax.text(s = \"Cost - \" + str(cost), y = 25, x = 67, color = 'white', size = 20)\n",
    "        \n",
    "        all_games[file_name][corner_num]['cost'] = float(cost)\n",
    "        \n",
    "        plt.savefig(\"predicted_defensive_setups/\" + str(file_name.split('.')[0] + \"_\" + corner_num),dpi=480,bbox_inches='tight',facecolor='#1b1f2b')\n",
    "#         plt.show()\n",
    "        plt.close()\n",
    "\n"
   ]
  },
  {
   "cell_type": "code",
   "execution_count": 240,
   "id": "616297db",
   "metadata": {},
   "outputs": [],
   "source": [
    "file_name = '86.json'\n",
    "corner_num = '0'\n",
    "\n",
    "swap = all_games[file_name][corner_num]['attacking_coors']\n",
    "all_games[file_name][corner_num]['attacking_coors'] = all_games[file_name][corner_num]['defending_coors']\n",
    "\n",
    "all_games[file_name][corner_num]['defending_coors'] = swap"
   ]
  },
  {
   "cell_type": "markdown",
   "id": "3fed98f4",
   "metadata": {},
   "source": [
    "Visualize Corner Frame"
   ]
  },
  {
   "cell_type": "code",
   "execution_count": 254,
   "id": "5ac13dfa",
   "metadata": {},
   "outputs": [
    {
     "data": {
      "image/png": "[encoded data removed]",
      "text/plain": [
       "<Figure size 1008x864 with 1 Axes>"
      ]
     },
     "metadata": {},
     "output_type": "display_data"
    }
   ],
   "source": [
    "#visualize\n",
    "\n",
    "file_name = '76.json'\n",
    "corner_num = '10'\n",
    "\n",
    "pitch = VerticalPitch(pitch_color='#1b1f2b',pitch_type='custom',\n",
    "            pitch_length=105, pitch_width=68,figsize=(14, 12), line_zorder=2, line_color='#c7d5cc')\n",
    "\n",
    "fig, ax = pitch.draw(figsize=(14, 12))\n",
    "fig.set_facecolor('#1b1f2b')\n",
    "\n",
    "\n",
    "# then setup the pitch plot markers we want to animate\n",
    "marker_kwargs = {'marker': 'o', 'markeredgecolor': 'black', 'linestyle': 'None'}\n",
    "ball, = ax.plot([], [], ms=6, markerfacecolor='w', zorder=3, **marker_kwargs)\n",
    "away, = ax.plot([], [], ms=10, markerfacecolor='#b94b75', **marker_kwargs)  # red/maroon\n",
    "home, = ax.plot([], [], ms=10, markerfacecolor='#7f63b8', **marker_kwargs)  # purple\n",
    "\n",
    "\n",
    "# animation function\n",
    "def animate(i):\n",
    "    \"\"\" Function to animate the data. Each frame it sets the data for the players and the ball.\"\"\"\n",
    "    # set the ball data with the x and y positions for the ith frame\n",
    "    ball.set_data(np.array(all_games[file_name][corner_num]['ball_coors'][i])[:, 1], np.array(all_games[file_name][corner_num]['ball_coors'][i])[:, 0])\n",
    "    \n",
    "    # get the frame id for the ith frame\n",
    "\n",
    "    # set the player data using the frame id\n",
    "    away.set_data(np.array(all_games[file_name][corner_num]['defending_coors'][i])[:, 1], np.array(all_games[file_name][corner_num]['defending_coors'][i])[:, 0])\n",
    "    home.set_data(np.array(all_games[file_name][corner_num]['attacking_coors'][i])[:, 1], np.array(all_games[file_name][corner_num]['attacking_coors'][i])[:, 0])\n",
    "    \n",
    "    return ball, away, home\n",
    "\n",
    "\n",
    "# call the animator, animate so 25 frames per second\n",
    "anim = animation.FuncAnimation(fig, animate, frames=len(all_games[file_name][corner_num]['ball_coors']), interval=200, blit=True)\n",
    "# writergif = animation.PillowWriter(fps=30)\n",
    "# anim.save('filename_66_3.gif',writer=writergif)\n",
    "\n",
    "plt.show()\n",
    "\n",
    "\n",
    "\n"
   ]
  },
  {
   "cell_type": "code",
   "execution_count": 149,
   "id": "2f3308d0",
   "metadata": {},
   "outputs": [],
   "source": [
    "frame_for_lsp = 0\n",
    "cost_list = []\n",
    "zone_markers = []\n",
    "attackers_in_six_yard = []\n",
    "file_name_entry = []\n",
    "\n",
    "for file_name in all_games.keys():\n",
    "    \n",
    "    for corner_num in all_games[file_name].keys():\n",
    "        \n",
    "        \n",
    "        x_def, y_def, potential_zone_defenders = active_players(np.array(all_games[file_name][corner_num]['defending_coors'][0])[:, 0], np.array(all_games[file_name][corner_num]['defending_coors'][0])[:, 1], False)\n",
    "        defence_coord = np.column_stack((x_def,y_def))\n",
    "        \n",
    "        x_att, y_att, num_attackers_in_six_yard = active_players(np.array(all_games[file_name][corner_num]['attacking_coors'][0])[:, 0], np.array(all_games[file_name][corner_num]['attacking_coors'][0])[:, 1], True)\n",
    "        attack_coord = np.column_stack((x_att, y_att))\n",
    "\n",
    "        cost, sol_rows, sol_cols = euclidean_similarity(attack_coord, defence_coord)\n",
    "        \n",
    "        cost_list.append(round(cost, 3))\n",
    "        \n",
    "        #to find non  matched defenders - zonal markers - find ones inside the 6 yard box\n",
    "        \n",
    "\n",
    "        all_games[file_name][corner_num]['potential_zone_markers'] = potential_zone_defenders\n",
    "        all_games[file_name][corner_num]['attackers_in_six_yard'] = num_attackers_in_six_yard\n",
    "        \n",
    "\n",
    "        zone_markers.append(potential_zone_defenders)\n",
    "        attackers_in_six_yard.append(num_attackers_in_six_yard)\n",
    "        file_name_entry.append(file_name + \"_\" + corner_num)\n",
    "            "
   ]
  },
  {
   "cell_type": "code",
   "execution_count": 150,
   "id": "68d67d06",
   "metadata": {},
   "outputs": [
    {
     "data": {
      "text/html": [
       "<div>\n",
       "<style scoped>\n",
       "    .dataframe tbody tr th:only-of-type {\n",
       "        vertical-align: middle;\n",
       "    }\n",
       "\n",
       "    .dataframe tbody tr th {\n",
       "        vertical-align: top;\n",
       "    }\n",
       "\n",
       "    .dataframe thead th {\n",
       "        text-align: right;\n",
       "    }\n",
       "</style>\n",
       "<table border=\"1\" class=\"dataframe\">\n",
       "  <thead>\n",
       "    <tr style=\"text-align: right;\">\n",
       "      <th></th>\n",
       "      <th>cost</th>\n",
       "      <th>zone_markers</th>\n",
       "      <th>attackers_in_six_yard</th>\n",
       "      <th>file_name_entry</th>\n",
       "    </tr>\n",
       "  </thead>\n",
       "  <tbody>\n",
       "    <tr>\n",
       "      <th>0</th>\n",
       "      <td>6.37</td>\n",
       "      <td>3</td>\n",
       "      <td>1</td>\n",
       "      <td>0.json_0</td>\n",
       "    </tr>\n",
       "    <tr>\n",
       "      <th>1</th>\n",
       "      <td>7.343</td>\n",
       "      <td>3</td>\n",
       "      <td>2</td>\n",
       "      <td>0.json_1</td>\n",
       "    </tr>\n",
       "    <tr>\n",
       "      <th>2</th>\n",
       "      <td>13.322</td>\n",
       "      <td>4</td>\n",
       "      <td>2</td>\n",
       "      <td>0.json_2</td>\n",
       "    </tr>\n",
       "    <tr>\n",
       "      <th>3</th>\n",
       "      <td>8.063</td>\n",
       "      <td>2</td>\n",
       "      <td>0</td>\n",
       "      <td>0.json_3</td>\n",
       "    </tr>\n",
       "    <tr>\n",
       "      <th>4</th>\n",
       "      <td>7.703</td>\n",
       "      <td>2</td>\n",
       "      <td>0</td>\n",
       "      <td>0.json_4</td>\n",
       "    </tr>\n",
       "    <tr>\n",
       "      <th>...</th>\n",
       "      <td>...</td>\n",
       "      <td>...</td>\n",
       "      <td>...</td>\n",
       "      <td>...</td>\n",
       "    </tr>\n",
       "    <tr>\n",
       "      <th>623</th>\n",
       "      <td>6.743</td>\n",
       "      <td>1</td>\n",
       "      <td>0</td>\n",
       "      <td>99.json_2</td>\n",
       "    </tr>\n",
       "    <tr>\n",
       "      <th>624</th>\n",
       "      <td>15.985</td>\n",
       "      <td>2</td>\n",
       "      <td>0</td>\n",
       "      <td>99.json_3</td>\n",
       "    </tr>\n",
       "    <tr>\n",
       "      <th>625</th>\n",
       "      <td>6.266</td>\n",
       "      <td>1</td>\n",
       "      <td>0</td>\n",
       "      <td>99.json_4</td>\n",
       "    </tr>\n",
       "    <tr>\n",
       "      <th>626</th>\n",
       "      <td>8.489</td>\n",
       "      <td>1</td>\n",
       "      <td>0</td>\n",
       "      <td>99.json_5</td>\n",
       "    </tr>\n",
       "    <tr>\n",
       "      <th>627</th>\n",
       "      <td>6.311</td>\n",
       "      <td>2</td>\n",
       "      <td>0</td>\n",
       "      <td>99.json_6</td>\n",
       "    </tr>\n",
       "  </tbody>\n",
       "</table>\n",
       "<p>628 rows × 4 columns</p>\n",
       "</div>"
      ],
      "text/plain": [
       "       cost zone_markers attackers_in_six_yard file_name_entry\n",
       "0      6.37            3                     1        0.json_0\n",
       "1     7.343            3                     2        0.json_1\n",
       "2    13.322            4                     2        0.json_2\n",
       "3     8.063            2                     0        0.json_3\n",
       "4     7.703            2                     0        0.json_4\n",
       "..      ...          ...                   ...             ...\n",
       "623   6.743            1                     0       99.json_2\n",
       "624  15.985            2                     0       99.json_3\n",
       "625   6.266            1                     0       99.json_4\n",
       "626   8.489            1                     0       99.json_5\n",
       "627   6.311            2                     0       99.json_6\n",
       "\n",
       "[628 rows x 4 columns]"
      ]
     },
     "execution_count": 150,
     "metadata": {},
     "output_type": "execute_result"
    }
   ],
   "source": [
    "data_to_cluster = pd.DataFrame(np.transpose(np.array((cost_list,zone_markers,attackers_in_six_yard, file_name_entry)))\n",
    ", columns=['cost', 'zone_markers', 'attackers_in_six_yard', 'file_name_entry'])\n",
    "\n",
    "data_to_cluster"
   ]
  },
  {
   "cell_type": "code",
   "execution_count": 154,
   "id": "ddffb52c",
   "metadata": {},
   "outputs": [],
   "source": [
    "gm = GaussianMixture(n_components=2, random_state=0).fit(data_to_cluster[['cost', 'zone_markers', 'attackers_in_six_yard']].values)\n"
   ]
  },
  {
   "cell_type": "code",
   "execution_count": 155,
   "id": "1d5461ea",
   "metadata": {},
   "outputs": [
    {
     "data": {
      "text/plain": [
       "array([[ 7.95534413,  2.72479859,  0.75428035],\n",
       "       [21.84636518,  4.57006911,  0.67450997]])"
      ]
     },
     "execution_count": 155,
     "metadata": {},
     "output_type": "execute_result"
    }
   ],
   "source": [
    "gm.means_"
   ]
  },
  {
   "cell_type": "code",
   "execution_count": 162,
   "id": "a5f70e50",
   "metadata": {},
   "outputs": [
    {
     "data": {
      "text/plain": [
       "array([[0.9142916, 0.0857084]])"
      ]
     },
     "execution_count": 162,
     "metadata": {},
     "output_type": "execute_result"
    }
   ],
   "source": [
    "gm.predict_proba([[ 5.05514469,  2.73069868, 1.70663914]])"
   ]
  },
  {
   "cell_type": "code",
   "execution_count": 163,
   "id": "fdd5dbab",
   "metadata": {},
   "outputs": [],
   "source": [
    "labels = gm.predict(data_to_cluster[['cost', 'zone_markers', 'attackers_in_six_yard']].values)"
   ]
  },
  {
   "cell_type": "code",
   "execution_count": 164,
   "id": "28a00ac4",
   "metadata": {},
   "outputs": [],
   "source": [
    "data_to_cluster['cluster'] = labels"
   ]
  },
  {
   "cell_type": "code",
   "execution_count": 165,
   "id": "0358772e",
   "metadata": {},
   "outputs": [
    {
     "data": {
      "text/plain": [
       "357"
      ]
     },
     "execution_count": 165,
     "metadata": {},
     "output_type": "execute_result"
    }
   ],
   "source": [
    "np.sum(labels == 0)"
   ]
  },
  {
   "cell_type": "code",
   "execution_count": 166,
   "id": "c193fb45",
   "metadata": {},
   "outputs": [
    {
     "data": {
      "text/plain": [
       "271"
      ]
     },
     "execution_count": 166,
     "metadata": {},
     "output_type": "execute_result"
    }
   ],
   "source": [
    "np.sum(labels == 1)"
   ]
  },
  {
   "cell_type": "code",
   "execution_count": 167,
   "id": "12a12362",
   "metadata": {},
   "outputs": [],
   "source": [
    "gm_single_feature = GaussianMixture(n_components=2, random_state=0).fit(data_to_cluster[['cost']].values)\n"
   ]
  },
  {
   "cell_type": "code",
   "execution_count": 168,
   "id": "cd21b783",
   "metadata": {},
   "outputs": [
    {
     "data": {
      "text/plain": [
       "array([[ 8.02603679],\n",
       "       [22.51751421]])"
      ]
     },
     "execution_count": 168,
     "metadata": {},
     "output_type": "execute_result"
    }
   ],
   "source": [
    "gm_single_feature.means_"
   ]
  },
  {
   "cell_type": "code",
   "execution_count": 170,
   "id": "4e7c9a28",
   "metadata": {},
   "outputs": [],
   "source": [
    "labels_single_feature = gm_single_feature.predict(data_to_cluster[['cost']].values)"
   ]
  },
  {
   "cell_type": "code",
   "execution_count": 171,
   "id": "6f43ef50",
   "metadata": {},
   "outputs": [],
   "source": [
    "data_to_cluster['cluster_single_feature'] = labels_single_feature"
   ]
  },
  {
   "cell_type": "code",
   "execution_count": 172,
   "id": "1c250813",
   "metadata": {},
   "outputs": [
    {
     "data": {
      "text/plain": [
       "378"
      ]
     },
     "execution_count": 172,
     "metadata": {},
     "output_type": "execute_result"
    }
   ],
   "source": [
    "np.sum(labels_single_feature == 0)"
   ]
  },
  {
   "cell_type": "code",
   "execution_count": 173,
   "id": "c006f54b",
   "metadata": {},
   "outputs": [
    {
     "data": {
      "text/plain": [
       "250"
      ]
     },
     "execution_count": 173,
     "metadata": {},
     "output_type": "execute_result"
    }
   ],
   "source": [
    "np.sum(labels_single_feature == 1)"
   ]
  },
  {
   "cell_type": "code",
   "execution_count": 174,
   "id": "e3b9fb50",
   "metadata": {},
   "outputs": [],
   "source": [
    "n_clusters = 2\n",
    "\n",
    "# Fit K-Means model\n",
    "kmeans_single_feature = KMeans(n_clusters=n_clusters, random_state=42).fit(data_to_cluster[['cost']].values)\n"
   ]
  },
  {
   "cell_type": "code",
   "execution_count": 175,
   "id": "59c4d46a",
   "metadata": {},
   "outputs": [],
   "source": [
    "kmeans_labels = kmeans_single_feature.labels_"
   ]
  },
  {
   "cell_type": "code",
   "execution_count": 179,
   "id": "e03bd028",
   "metadata": {},
   "outputs": [
    {
     "data": {
      "text/plain": [
       "192"
      ]
     },
     "execution_count": 179,
     "metadata": {},
     "output_type": "execute_result"
    }
   ],
   "source": [
    "np.sum(kmeans_labels == 0)"
   ]
  },
  {
   "cell_type": "code",
   "execution_count": 180,
   "id": "88fc7b9a",
   "metadata": {},
   "outputs": [
    {
     "data": {
      "text/plain": [
       "436"
      ]
     },
     "execution_count": 180,
     "metadata": {},
     "output_type": "execute_result"
    }
   ],
   "source": [
    "np.sum(kmeans_labels == 1)"
   ]
  },
  {
   "cell_type": "code",
   "execution_count": null,
   "id": "4aaa8335",
   "metadata": {},
   "outputs": [],
   "source": [
    "#add predictions & cost to all_games"
   ]
  },
  {
   "cell_type": "code",
   "execution_count": 188,
   "id": "702916dc",
   "metadata": {},
   "outputs": [],
   "source": [
    "data_to_cluster['kmeans_single_feature'] = kmeans_labels"
   ]
  },
  {
   "cell_type": "code",
   "execution_count": 211,
   "id": "2999b888",
   "metadata": {},
   "outputs": [],
   "source": [
    "data_to_cluster['gmm_all'] = np.where(data_to_cluster['cluster'] == 0, 'Man-Mark', 'Zone')\n"
   ]
  },
  {
   "cell_type": "code",
   "execution_count": 213,
   "id": "594173ea",
   "metadata": {},
   "outputs": [],
   "source": [
    "data_to_cluster['gmm_single'] = np.where(data_to_cluster['cluster_single_feature'] == 0, 'Man-Mark', 'Zone')\n"
   ]
  },
  {
   "cell_type": "code",
   "execution_count": 214,
   "id": "97e16700",
   "metadata": {},
   "outputs": [],
   "source": [
    "data_to_cluster['kmeans_single'] = np.where(data_to_cluster['kmeans_single_feature'] == 0, 'Man-Mark', 'Zone')\n"
   ]
  },
  {
   "cell_type": "code",
   "execution_count": 216,
   "id": "025abdd3",
   "metadata": {},
   "outputs": [
    {
     "data": {
      "text/html": [
       "<div>\n",
       "<style scoped>\n",
       "    .dataframe tbody tr th:only-of-type {\n",
       "        vertical-align: middle;\n",
       "    }\n",
       "\n",
       "    .dataframe tbody tr th {\n",
       "        vertical-align: top;\n",
       "    }\n",
       "\n",
       "    .dataframe thead th {\n",
       "        text-align: right;\n",
       "    }\n",
       "</style>\n",
       "<table border=\"1\" class=\"dataframe\">\n",
       "  <thead>\n",
       "    <tr style=\"text-align: right;\">\n",
       "      <th></th>\n",
       "      <th>cost</th>\n",
       "      <th>zone_markers</th>\n",
       "      <th>attackers_in_six_yard</th>\n",
       "      <th>file_name_entry</th>\n",
       "      <th>cluster</th>\n",
       "      <th>cluster_single_feature</th>\n",
       "      <th>kmeans_single_feature</th>\n",
       "      <th>gmm_all</th>\n",
       "      <th>gmm_single</th>\n",
       "      <th>kmeans_single</th>\n",
       "    </tr>\n",
       "  </thead>\n",
       "  <tbody>\n",
       "    <tr>\n",
       "      <th>0</th>\n",
       "      <td>6.37</td>\n",
       "      <td>3</td>\n",
       "      <td>1</td>\n",
       "      <td>0.json_0</td>\n",
       "      <td>0</td>\n",
       "      <td>0</td>\n",
       "      <td>0</td>\n",
       "      <td>Man-Mark</td>\n",
       "      <td>Man-Mark</td>\n",
       "      <td>Man-Mark</td>\n",
       "    </tr>\n",
       "    <tr>\n",
       "      <th>1</th>\n",
       "      <td>7.343</td>\n",
       "      <td>3</td>\n",
       "      <td>2</td>\n",
       "      <td>0.json_1</td>\n",
       "      <td>0</td>\n",
       "      <td>0</td>\n",
       "      <td>0</td>\n",
       "      <td>Man-Mark</td>\n",
       "      <td>Man-Mark</td>\n",
       "      <td>Man-Mark</td>\n",
       "    </tr>\n",
       "    <tr>\n",
       "      <th>2</th>\n",
       "      <td>13.322</td>\n",
       "      <td>4</td>\n",
       "      <td>2</td>\n",
       "      <td>0.json_2</td>\n",
       "      <td>0</td>\n",
       "      <td>1</td>\n",
       "      <td>0</td>\n",
       "      <td>Man-Mark</td>\n",
       "      <td>Zone</td>\n",
       "      <td>Man-Mark</td>\n",
       "    </tr>\n",
       "    <tr>\n",
       "      <th>3</th>\n",
       "      <td>8.063</td>\n",
       "      <td>2</td>\n",
       "      <td>0</td>\n",
       "      <td>0.json_3</td>\n",
       "      <td>0</td>\n",
       "      <td>0</td>\n",
       "      <td>0</td>\n",
       "      <td>Man-Mark</td>\n",
       "      <td>Man-Mark</td>\n",
       "      <td>Man-Mark</td>\n",
       "    </tr>\n",
       "    <tr>\n",
       "      <th>4</th>\n",
       "      <td>7.703</td>\n",
       "      <td>2</td>\n",
       "      <td>0</td>\n",
       "      <td>0.json_4</td>\n",
       "      <td>0</td>\n",
       "      <td>0</td>\n",
       "      <td>0</td>\n",
       "      <td>Man-Mark</td>\n",
       "      <td>Man-Mark</td>\n",
       "      <td>Man-Mark</td>\n",
       "    </tr>\n",
       "  </tbody>\n",
       "</table>\n",
       "</div>"
      ],
      "text/plain": [
       "     cost zone_markers attackers_in_six_yard file_name_entry  cluster  \\\n",
       "0    6.37            3                     1        0.json_0        0   \n",
       "1   7.343            3                     2        0.json_1        0   \n",
       "2  13.322            4                     2        0.json_2        0   \n",
       "3   8.063            2                     0        0.json_3        0   \n",
       "4   7.703            2                     0        0.json_4        0   \n",
       "\n",
       "   cluster_single_feature  kmeans_single_feature   gmm_all gmm_single  \\\n",
       "0                       0                      0  Man-Mark   Man-Mark   \n",
       "1                       0                      0  Man-Mark   Man-Mark   \n",
       "2                       1                      0  Man-Mark       Zone   \n",
       "3                       0                      0  Man-Mark   Man-Mark   \n",
       "4                       0                      0  Man-Mark   Man-Mark   \n",
       "\n",
       "  kmeans_single  \n",
       "0      Man-Mark  \n",
       "1      Man-Mark  \n",
       "2      Man-Mark  \n",
       "3      Man-Mark  \n",
       "4      Man-Mark  "
      ]
     },
     "execution_count": 216,
     "metadata": {},
     "output_type": "execute_result"
    }
   ],
   "source": [
    "data_to_cluster.head()"
   ]
  }
 ],
 "metadata": {
  "kernelspec": {
   "display_name": "Python 3 (ipykernel)",
   "language": "python",
   "name": "python3"
  },
  "language_info": {
   "codemirror_mode": {
    "name": "ipython",
    "version": 3
   },
   "file_extension": ".py",
   "mimetype": "text/x-python",
   "name": "python",
   "nbconvert_exporter": "python",
   "pygments_lexer": "ipython3",
   "version": "3.9.7"
  }
 },
 "nbformat": 4,
 "nbformat_minor": 5
}
