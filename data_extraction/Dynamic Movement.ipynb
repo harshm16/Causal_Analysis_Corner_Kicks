{
 "cells": [
  {
   "cell_type": "code",
   "execution_count": 138,
   "id": "e9e035b8",
   "metadata": {},
   "outputs": [],
   "source": [
    "import pandas as pd\n",
    "import json\n",
    "import os\n",
    "import numpy as np\n",
    "import time\n",
    "import ipywidgets as widgets\n",
    "from bqplot import *\n",
    "import qgrid\n",
    "\n",
    "pd.options.display.max_columns = 999\n",
    "\n",
    "\n",
    "import matplotlib.pyplot as plt\n",
    "from matplotlib.patches import Arc\n",
    "\n",
    "from mplsoccer import Pitch, VerticalPitch, add_image, FontManager\n",
    "import seaborn as sns\n",
    "from matplotlib import rcParams\n",
    "import math\n",
    "from PIL import Image\n",
    "\n",
    "from highlight_text import ax_text\n",
    "from matplotlib import animation\n",
    "hfont = {'fontname':'Georgia'}\n",
    "\n",
    "from scipy import optimize as op\n",
    "from scipy.spatial import ConvexHull\n",
    "\n",
    "from collections import Counter\n",
    "\n",
    "from itertools import chain\n",
    "import seaborn as sn\n",
    "from sklearn.mixture import GaussianMixture\n",
    "from sklearn.cluster import KMeans\n",
    "from sklearn.metrics import silhouette_score\n",
    "import itertools\n"
   ]
  },
  {
   "cell_type": "code",
   "execution_count": 17,
   "id": "2202aba1",
   "metadata": {},
   "outputs": [],
   "source": [
    "with open('data/all_games_active.json', 'r') as json_file:\n",
    "    all_games = json.load(json_file)"
   ]
  },
  {
   "cell_type": "code",
   "execution_count": 19,
   "id": "290e5a0a",
   "metadata": {},
   "outputs": [],
   "source": [
    "with open('data/corner_timeelapsed_store.json', 'r') as json_file:\n",
    "    corner_timeelpased_store = json.load(json_file)"
   ]
  },
  {
   "cell_type": "code",
   "execution_count": 25,
   "id": "51449fef",
   "metadata": {},
   "outputs": [
    {
     "name": "stdout",
     "output_type": "stream",
     "text": [
      "Avg. number of attackers per frame -  5.617834394904459\n"
     ]
    }
   ],
   "source": [
    "ix = 0\n",
    "avg_cal = 0\n",
    "starting_coor = 0\n",
    "\n",
    "for file_name in all_games.keys():\n",
    "    for corner_num in all_games[file_name].keys():\n",
    "        \n",
    "        try:\n",
    "            avg_cal += len(np.array(all_games[file_name][corner_num]['attacking_coors'])[starting_coor])\n",
    "            ix +=1\n",
    "        except ValueError as ve:\n",
    "            avg_cal += len(np.array([sublist for sublist in all_games[file_name][corner_num]['attacking_coors'] if sublist])[starting_coor])\n",
    "            ix +=1\n",
    "            \n",
    "print(\"Avg. number of attackers per frame - \", avg_cal / ix)"
   ]
  },
  {
   "cell_type": "code",
   "execution_count": 40,
   "id": "d7aa23b6",
   "metadata": {},
   "outputs": [],
   "source": [
    "def_type = pd.read_csv('data/dtype.csv')"
   ]
  },
  {
   "cell_type": "code",
   "execution_count": 41,
   "id": "c471c16b",
   "metadata": {},
   "outputs": [
    {
     "data": {
      "text/html": [
       "<div>\n",
       "<style scoped>\n",
       "    .dataframe tbody tr th:only-of-type {\n",
       "        vertical-align: middle;\n",
       "    }\n",
       "\n",
       "    .dataframe tbody tr th {\n",
       "        vertical-align: top;\n",
       "    }\n",
       "\n",
       "    .dataframe thead th {\n",
       "        text-align: right;\n",
       "    }\n",
       "</style>\n",
       "<table border=\"1\" class=\"dataframe\">\n",
       "  <thead>\n",
       "    <tr style=\"text-align: right;\">\n",
       "      <th></th>\n",
       "      <th>Unnamed: 0</th>\n",
       "      <th>cost</th>\n",
       "      <th>zone_markers</th>\n",
       "      <th>attackers_in_six_yard</th>\n",
       "      <th>file_name_entry</th>\n",
       "      <th>cluster</th>\n",
       "      <th>cluster_single_feature</th>\n",
       "      <th>kmeans_single_feature</th>\n",
       "      <th>gmm_all</th>\n",
       "      <th>gmm_single</th>\n",
       "      <th>kmeans_single</th>\n",
       "    </tr>\n",
       "  </thead>\n",
       "  <tbody>\n",
       "    <tr>\n",
       "      <th>0</th>\n",
       "      <td>0</td>\n",
       "      <td>6.370</td>\n",
       "      <td>3</td>\n",
       "      <td>1</td>\n",
       "      <td>0.json_0</td>\n",
       "      <td>0</td>\n",
       "      <td>0</td>\n",
       "      <td>0</td>\n",
       "      <td>Man-Mark</td>\n",
       "      <td>Man-Mark</td>\n",
       "      <td>Man-Mark</td>\n",
       "    </tr>\n",
       "    <tr>\n",
       "      <th>1</th>\n",
       "      <td>1</td>\n",
       "      <td>7.343</td>\n",
       "      <td>3</td>\n",
       "      <td>2</td>\n",
       "      <td>0.json_1</td>\n",
       "      <td>0</td>\n",
       "      <td>0</td>\n",
       "      <td>0</td>\n",
       "      <td>Man-Mark</td>\n",
       "      <td>Man-Mark</td>\n",
       "      <td>Man-Mark</td>\n",
       "    </tr>\n",
       "    <tr>\n",
       "      <th>2</th>\n",
       "      <td>2</td>\n",
       "      <td>13.322</td>\n",
       "      <td>4</td>\n",
       "      <td>2</td>\n",
       "      <td>0.json_2</td>\n",
       "      <td>0</td>\n",
       "      <td>1</td>\n",
       "      <td>0</td>\n",
       "      <td>Man-Mark</td>\n",
       "      <td>Zone</td>\n",
       "      <td>Man-Mark</td>\n",
       "    </tr>\n",
       "    <tr>\n",
       "      <th>3</th>\n",
       "      <td>3</td>\n",
       "      <td>8.063</td>\n",
       "      <td>2</td>\n",
       "      <td>0</td>\n",
       "      <td>0.json_3</td>\n",
       "      <td>0</td>\n",
       "      <td>0</td>\n",
       "      <td>0</td>\n",
       "      <td>Man-Mark</td>\n",
       "      <td>Man-Mark</td>\n",
       "      <td>Man-Mark</td>\n",
       "    </tr>\n",
       "    <tr>\n",
       "      <th>4</th>\n",
       "      <td>4</td>\n",
       "      <td>7.703</td>\n",
       "      <td>2</td>\n",
       "      <td>0</td>\n",
       "      <td>0.json_4</td>\n",
       "      <td>0</td>\n",
       "      <td>0</td>\n",
       "      <td>0</td>\n",
       "      <td>Man-Mark</td>\n",
       "      <td>Man-Mark</td>\n",
       "      <td>Man-Mark</td>\n",
       "    </tr>\n",
       "  </tbody>\n",
       "</table>\n",
       "</div>"
      ],
      "text/plain": [
       "   Unnamed: 0    cost  zone_markers  attackers_in_six_yard file_name_entry  \\\n",
       "0           0   6.370             3                      1        0.json_0   \n",
       "1           1   7.343             3                      2        0.json_1   \n",
       "2           2  13.322             4                      2        0.json_2   \n",
       "3           3   8.063             2                      0        0.json_3   \n",
       "4           4   7.703             2                      0        0.json_4   \n",
       "\n",
       "   cluster  cluster_single_feature  kmeans_single_feature   gmm_all  \\\n",
       "0        0                       0                      0  Man-Mark   \n",
       "1        0                       0                      0  Man-Mark   \n",
       "2        0                       1                      0  Man-Mark   \n",
       "3        0                       0                      0  Man-Mark   \n",
       "4        0                       0                      0  Man-Mark   \n",
       "\n",
       "  gmm_single kmeans_single  \n",
       "0   Man-Mark      Man-Mark  \n",
       "1   Man-Mark      Man-Mark  \n",
       "2       Zone      Man-Mark  \n",
       "3   Man-Mark      Man-Mark  \n",
       "4   Man-Mark      Man-Mark  "
      ]
     },
     "execution_count": 41,
     "metadata": {},
     "output_type": "execute_result"
    }
   ],
   "source": [
    "def_type.head()"
   ]
  },
  {
   "cell_type": "code",
   "execution_count": 144,
   "id": "7d3d359d",
   "metadata": {},
   "outputs": [],
   "source": [
    "acc_list = []\n",
    "speed_list = []\n",
    "corner_type_list = []\n",
    "corner_sequence_list = []\n",
    "above_2 = []\n",
    "\n",
    "for file_name in all_games.keys():\n",
    "    counter = 0\n",
    "    for corner_num in all_games[file_name].keys():\n",
    "\n",
    "        try:\n",
    "            ball_coors = np.array(all_games[file_name][corner_num]['ball_coors'])\n",
    "            attacking_coors = np.array(all_games[file_name][corner_num]['attacking_coors'])\n",
    "            \n",
    "\n",
    "        except ValueError as ve:\n",
    "        \n",
    "            ball_coors = np.array([sublist for sublist in all_games[file_name][corner_num]['ball_coors'] if sublist])\n",
    "            attacking_coors = np.array([sublist for sublist in all_games[file_name][corner_num]['attacking_coors'] if sublist])\n",
    "\n",
    "        index_below_64 = 50\n",
    "                \n",
    "        if ball_coors[index_below_64][0][1] < 55:\n",
    "            index_below_64 = 37\n",
    "\n",
    "\n",
    "        index_below_44 = index_below_64 + 25\n",
    "        #1 second after the ball crosses 64\n",
    "        if index_below_44 > len(ball_coors):\n",
    "            index_below_44 = len(ball_coors)\n",
    "        \n",
    "\n",
    "        each_frame_above_threshold = 0\n",
    "        for value in attacking_coors[index_below_64:index_below_44+1]:\n",
    "            each_frame = []\n",
    "            \n",
    "            for i in range(len(value)):\n",
    "                acc_list.append(value[i][3])\n",
    "                speed_list.append(value[i][2])\n",
    "                each_frame.append(value[i][2])\n",
    "        \n",
    "            #the logic is based on the below speed_list histogram -: players with speed more than the mean speed seen\n",
    "            each_frame_above_threshold = max(each_frame_above_threshold, len([element for element in each_frame if element > 2.8]))\n",
    "\n",
    "        above_2.append(each_frame_above_threshold)\n",
    "        \n",
    "        \n",
    "        _, _, _, _, _, corner_type, sequence = corner_timeelpased_store[file_name][counter]\n",
    "        corner_type_list.append(corner_type)\n",
    "        corner_sequence_list.append(sequence.split(\"> \")[-1])\n",
    "        counter +=1\n",
    "        "
   ]
  },
  {
   "cell_type": "code",
   "execution_count": 145,
   "id": "0dd4cbc7",
   "metadata": {},
   "outputs": [
    {
     "data": {
      "image/png": "[encoded data removed]",
      "text/plain": [
       "<Figure size 432x288 with 1 Axes>"
      ]
     },
     "metadata": {
      "needs_background": "light"
     },
     "output_type": "display_data"
    }
   ],
   "source": [
    "plt.hist(acc_list, bins='auto', edgecolor='black')  # 'auto' determines the number of bins automatically\n",
    "plt.show()"
   ]
  },
  {
   "cell_type": "code",
   "execution_count": 146,
   "id": "94d9e174",
   "metadata": {},
   "outputs": [
    {
     "data": {
      "image/png": "[encoded data removed]",
      "text/plain": [
       "<Figure size 432x288 with 1 Axes>"
      ]
     },
     "metadata": {
      "needs_background": "light"
     },
     "output_type": "display_data"
    }
   ],
   "source": [
    "plt.hist(speed_list, bins='auto', edgecolor='black')  # 'auto' determines the number of bins automatically\n",
    "plt.show()"
   ]
  },
  {
   "cell_type": "code",
   "execution_count": 147,
   "id": "3b35f6be",
   "metadata": {},
   "outputs": [
    {
     "name": "stdout",
     "output_type": "stream",
     "text": [
      "mean 2.801699329415461\n",
      "Std 1.5275148759473742\n"
     ]
    }
   ],
   "source": [
    "print(\"mean\", np.mean(speed_list))\n",
    "print(\"Std\", np.std(speed_list))"
   ]
  },
  {
   "cell_type": "code",
   "execution_count": 148,
   "id": "d4b161d8",
   "metadata": {},
   "outputs": [
    {
     "data": {
      "image/png": "[encoded data removed]",
      "text/plain": [
       "<Figure size 432x288 with 1 Axes>"
      ]
     },
     "metadata": {
      "needs_background": "light"
     },
     "output_type": "display_data"
    }
   ],
   "source": [
    "plt.hist(above_2, bins='auto', edgecolor='black')  # 'auto' determines the number of bins automatically\n",
    "plt.show()"
   ]
  },
  {
   "cell_type": "code",
   "execution_count": 152,
   "id": "c9b8cc11",
   "metadata": {},
   "outputs": [
    {
     "data": {
      "text/plain": [
       "Counter({3: 192, 4: 168, 5: 86, 6: 17, 2: 124, 1: 34, 0: 5, 8: 1, 7: 1})"
      ]
     },
     "execution_count": 152,
     "metadata": {},
     "output_type": "execute_result"
    }
   ],
   "source": [
    "Counter(above_2)"
   ]
  },
  {
   "cell_type": "code",
   "execution_count": 160,
   "id": "f66eb95c",
   "metadata": {},
   "outputs": [],
   "source": [
    "dynamic_movement = [1 if ele > 2 else 0 for ele in above_2]"
   ]
  },
  {
   "cell_type": "code",
   "execution_count": 153,
   "id": "90024db7",
   "metadata": {},
   "outputs": [
    {
     "data": {
      "text/plain": [
       "465"
      ]
     },
     "execution_count": 153,
     "metadata": {},
     "output_type": "execute_result"
    }
   ],
   "source": [
    "len([element for element in above_2 if element > 2])"
   ]
  },
  {
   "cell_type": "code",
   "execution_count": 163,
   "id": "ca815446",
   "metadata": {},
   "outputs": [],
   "source": [
    "def_type['above_2'] = above_2\n",
    "def_type['dynamic_movement'] = dynamic_movement\n",
    "\n",
    "def_type['corner_sequence_list'] = corner_sequence_list\n",
    "def_type['corner_type_list'] = corner_type_list"
   ]
  },
  {
   "cell_type": "code",
   "execution_count": 167,
   "id": "99b245b7",
   "metadata": {},
   "outputs": [
    {
     "data": {
      "text/plain": [
       "Counter({'Clearance': 348,\n",
       "         'Claim': 22,\n",
       "         'Out': 26,\n",
       "         'Ball touch': 1,\n",
       "         'Attempt Saved': 59,\n",
       "         'Miss': 100,\n",
       "         'Pass': 16,\n",
       "         'Corner Awarded': 7,\n",
       "         'Ball recovery': 6,\n",
       "         'Goal': 11,\n",
       "         'Foul': 16,\n",
       "         'Deleted event': 2,\n",
       "         'Aerial': 2,\n",
       "         'Keeper pick-up': 6,\n",
       "         'Take On': 2,\n",
       "         'Offside Pass': 4})"
      ]
     },
     "execution_count": 167,
     "metadata": {},
     "output_type": "execute_result"
    }
   ],
   "source": [
    "Counter(corner_sequence_list)"
   ]
  },
  {
   "cell_type": "code",
   "execution_count": 202,
   "id": "787513a0",
   "metadata": {},
   "outputs": [],
   "source": [
    "shots = ['Attempt Saved', 'Miss', \"Goal\"]\n",
    "\n",
    "shots_attempt = [1 if ele in shots else 0 for ele in corner_sequence_list]"
   ]
  },
  {
   "cell_type": "code",
   "execution_count": 173,
   "id": "7ec575bd",
   "metadata": {},
   "outputs": [],
   "source": [
    "def_type['shots_attempt'] = shots_attempt"
   ]
  },
  {
   "cell_type": "code",
   "execution_count": 180,
   "id": "697a767d",
   "metadata": {},
   "outputs": [],
   "source": [
    "def_type['attack_setup'] = list(pd.read_csv('att_clusters.csv')['cluster'])"
   ]
  },
  {
   "cell_type": "code",
   "execution_count": 205,
   "id": "e410bc67",
   "metadata": {},
   "outputs": [],
   "source": [
    "corner_detail = [0 if ele == 'Inswinger' else 1 for ele in list(def_type['corner_type'])]\n",
    "def_type['corner_detail'] = corner_detail"
   ]
  },
  {
   "cell_type": "code",
   "execution_count": 206,
   "id": "c66f9dee",
   "metadata": {},
   "outputs": [],
   "source": [
    "def_type = def_type.rename(columns={\"corner_type_list\": \"corner_type\", 'shots_attempt': 'shot_attempt','cluster': 'defense_type','gmm_all':'def_detail'})"
   ]
  },
  {
   "cell_type": "code",
   "execution_count": 208,
   "id": "77cd5156",
   "metadata": {},
   "outputs": [],
   "source": [
    "features = def_type[['defense_type', 'def_detail','corner_type', 'corner_detail','dynamic_movement', 'shot_attempt','attack_setup']]"
   ]
  },
  {
   "cell_type": "code",
   "execution_count": 210,
   "id": "dac69bc5",
   "metadata": {},
   "outputs": [],
   "source": [
    "# features.to_csv('data/features.csv', index=False)"
   ]
  },
  {
   "cell_type": "code",
   "execution_count": 37,
   "id": "548b6500",
   "metadata": {},
   "outputs": [
    {
     "name": "stdout",
     "output_type": "stream",
     "text": [
      "[ 0.56981398  2.36762862 -0.24936016 -1.52302619  2.67140167 -2.21354266] [-0.11095393  2.06348792  4.06592336  3.03286553  0.60865793  4.01438125]\n"
     ]
    },
    {
     "data": {
      "image/png": "[encoded data removed]",
      "text/plain": [
       "<Figure size 1008x864 with 1 Axes>"
      ]
     },
     "metadata": {},
     "output_type": "display_data"
    }
   ],
   "source": [
    "#to visualize speeds\n",
    "\n",
    "start_xy = []\n",
    "file_names = []\n",
    "corner_id_list_start = []\n",
    "player_location_list_start = []\n",
    "\n",
    "\n",
    "\n",
    "pitch = VerticalPitch(pitch_color='#1b1f2b',pitch_type='custom',\n",
    "            pitch_length=105, pitch_width=68,figsize=(14, 12), line_zorder=2, line_color='#c7d5cc')\n",
    "\n",
    "fig, ax = pitch.draw(figsize=(14, 12))\n",
    "fig.set_facecolor('#1b1f2b')\n",
    "\n",
    "starting_coor = -1\n",
    "\n",
    "\n",
    "\n",
    "for file_name in ['0.json']:\n",
    "    \n",
    "\n",
    "\n",
    "    corner_num = \"1\"\n",
    "        \n",
    "    file_names.append(file_name + \"_\" + corner_num)\n",
    "    try:\n",
    "        x, y, _,_,speed_x,speed_y = np.array(all_games[file_name][corner_num]['attacking_coors'])[starting_coor][:, :6].T\n",
    "        start_xy.append((x,y))\n",
    "\n",
    "        ball_x, ball_y = np.array(all_games[file_name][corner_num]['ball_coors'])[starting_coor][:, :2].T\n",
    "        print(speed_x,speed_y)\n",
    "        pitch.scatter(ball_x,ball_y, marker = 'o',ax=ax,zorder=3,s=50, color = \"green\")\n",
    "\n",
    "\n",
    "        for idx in range(len(x)):\n",
    "            \n",
    "            player_location_list_start.append((x[idx], y[idx]))\n",
    "            pitch.scatter(x[idx],y[idx], marker = 'o',ax=ax,zorder=3,s=20, color = \"white\")\n",
    "            \n",
    "            ax.quiver(y[idx],x[idx], speed_y[idx], speed_x[idx], color=\"red\", angles='xy', scale_units='xy', scale=1,width=0.002,headlength=5,headwidth=8)\n",
    "            \n",
    "            corner_id_list_start.append(str(file_name) + \"_\" + str(corner_num))\n",
    "\n",
    "\n",
    "    except ValueError as ve:\n",
    "\n",
    "        x, y = np.array([sublist for sublist in all_games[file_name][corner_num]['attacking_coors'] if sublist])[starting_coor][:, :2].T\n",
    "        start_xy.append((x,y))\n",
    "        \n",
    "        pitch.scatter(x,y, marker = 'o',ax=ax,zorder=3,s=20, color = \"yellow\")\n",
    "        \n",
    "        for idx in range(len(x)):\n",
    "            player_location_list_start.append((x[idx], y[idx]))\n",
    "            corner_id_list_start.append(str(file_name) + \"_\" + str(corner_num))\n",
    "\n",
    "pt.show()\n",
    "\n"
   ]
  }
 ],
 "metadata": {
  "kernelspec": {
   "display_name": "Python 3 (ipykernel)",
   "language": "python",
   "name": "python3"
  },
  "language_info": {
   "codemirror_mode": {
    "name": "ipython",
    "version": 3
   },
   "file_extension": ".py",
   "mimetype": "text/x-python",
   "name": "python",
   "nbconvert_exporter": "python",
   "pygments_lexer": "ipython3",
   "version": "3.9.7"
  }
 },
 "nbformat": 4,
 "nbformat_minor": 5
}
